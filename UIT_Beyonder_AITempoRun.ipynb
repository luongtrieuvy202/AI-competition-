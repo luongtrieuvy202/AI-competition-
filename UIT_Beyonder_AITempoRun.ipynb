{
  "nbformat": 4,
  "nbformat_minor": 0,
  "metadata": {
    "colab": {
      "name": "UIT.Beyonder AITempoRun.ipynb",
      "provenance": [],
      "collapsed_sections": [],
      "toc_visible": true
    },
    "kernelspec": {
      "name": "python3",
      "display_name": "Python 3"
    },
    "language_info": {
      "name": "python"
    }
  },
  "cells": [
    {
      "cell_type": "markdown",
      "metadata": {
        "id": "Ta3nP9hc8z_T"
      },
      "source": [
        "# Phân tích Dataset"
      ]
    },
    {
      "cell_type": "markdown",
      "metadata": {
        "id": "PTyxRxix87Qj"
      },
      "source": [
        "## Load Data"
      ]
    },
    {
      "cell_type": "code",
      "metadata": {
        "id": "sZW7AVxZ86l1",
        "colab": {
          "base_uri": "https://localhost:8080/",
          "height": 173
        },
        "outputId": "b7fd6f07-64c8-410e-f2cc-2b68b05e8512"
      },
      "source": [
        "# packages\n",
        "\n",
        "import numpy as np # linear algebra\n",
        "import pandas as pd # data processing\n",
        "\n",
        "import matplotlib.pyplot as plt\n",
        "import seaborn as sns\n",
        "\n",
        "import plotly.express as px\n",
        "\n",
        "# data split\n",
        "from sklearn.model_selection import train_test_split\n",
        "\n",
        "# SMOTE\n",
        "from imblearn.over_sampling import SMOTE\n",
        "\n",
        "# scaling\n",
        "from sklearn.preprocessing import StandardScaler\n",
        "\n",
        "# tune\n",
        "from sklearn.model_selection import RandomizedSearchCV\n",
        "\n",
        "# model Evaluation\n",
        "from sklearn import metrics\n",
        "\n",
        "# display HTML, Js apps\n",
        "from IPython.core.display import display, HTML, Javascript\n",
        "\n",
        "from imblearn.under_sampling import RandomUnderSampler\n",
        "from sklearn.linear_model import LogisticRegression\n",
        "\n",
        "# plotly offline\n",
        "from plotly.offline import download_plotlyjs,init_notebook_mode\n",
        "init_notebook_mode(connected=True)\n",
        "\n",
        "\n",
        "\n",
        "#Đây là hàm tải dữ liệu\n",
        "def load_from_google(url):\n",
        "  # Lấy id của file\n",
        "  id = url.split('/')[-2]\n",
        "  # Tạo link downloads:\n",
        "  download_url = 'https://drive.google.com/uc?id=' + id\n",
        "  # Load file từ link downloads\n",
        "  data = pd.read_csv(download_url)\n",
        "  return data\n",
        "\n",
        "#Thay link tệp train và tệp test vào đây\n",
        "train_url = 'https://drive.google.com/file/d/1iNpj_H3OiJLydq5wF_r75At9wZuULZ9e/view?usp=sharing'\n",
        "test_url = 'https://drive.google.com/file/d/1Fuq6J2xHLVZ4BQnP22fxyPYHLh9Tvb4e/view?usp=sharing'\n",
        "\n",
        "#Load data về\n",
        "train = load_from_google(train_url)\n",
        "test = load_from_google(test_url)\n"
      ],
      "execution_count": null,
      "outputs": [
        {
          "output_type": "stream",
          "text": [
            "/usr/local/lib/python3.7/dist-packages/sklearn/externals/six.py:31: FutureWarning:\n",
            "\n",
            "The module is deprecated in version 0.21 and will be removed in version 0.23 since we've dropped support for Python 2.7. Please rely on the official version of six (https://pypi.org/project/six/).\n",
            "\n",
            "/usr/local/lib/python3.7/dist-packages/sklearn/utils/deprecation.py:144: FutureWarning:\n",
            "\n",
            "The sklearn.neighbors.base module is  deprecated in version 0.22 and will be removed in version 0.24. The corresponding classes / functions should instead be imported from sklearn.neighbors. Anything that cannot be imported from sklearn.neighbors is now part of the private API.\n",
            "\n"
          ],
          "name": "stderr"
        },
        {
          "output_type": "display_data",
          "data": {
            "text/html": [
              "        <script type=\"text/javascript\">\n",
              "        window.PlotlyConfig = {MathJaxConfig: 'local'};\n",
              "        if (window.MathJax) {MathJax.Hub.Config({SVG: {font: \"STIX-Web\"}});}\n",
              "        if (typeof require !== 'undefined') {\n",
              "        require.undef(\"plotly\");\n",
              "        requirejs.config({\n",
              "            paths: {\n",
              "                'plotly': ['https://cdn.plot.ly/plotly-latest.min']\n",
              "            }\n",
              "        });\n",
              "        require(['plotly'], function(Plotly) {\n",
              "            window._Plotly = Plotly;\n",
              "        });\n",
              "        }\n",
              "        </script>\n",
              "        "
            ]
          },
          "metadata": {
            "tags": []
          }
        }
      ]
    },
    {
      "cell_type": "markdown",
      "metadata": {
        "id": "7q8uxUQd-pXG"
      },
      "source": [
        "## Xem thông tin tệp train"
      ]
    },
    {
      "cell_type": "code",
      "metadata": {
        "colab": {
          "base_uri": "https://localhost:8080/",
          "height": 224
        },
        "id": "XjytqpWm8Hno",
        "outputId": "03382f52-9769-42d1-e9c2-63a92564ef5c"
      },
      "source": [
        "#Hiện tập train\n",
        "train.head()"
      ],
      "execution_count": null,
      "outputs": [
        {
          "output_type": "execute_result",
          "data": {
            "text/html": [
              "<div>\n",
              "<style scoped>\n",
              "    .dataframe tbody tr th:only-of-type {\n",
              "        vertical-align: middle;\n",
              "    }\n",
              "\n",
              "    .dataframe tbody tr th {\n",
              "        vertical-align: top;\n",
              "    }\n",
              "\n",
              "    .dataframe thead th {\n",
              "        text-align: right;\n",
              "    }\n",
              "</style>\n",
              "<table border=\"1\" class=\"dataframe\">\n",
              "  <thead>\n",
              "    <tr style=\"text-align: right;\">\n",
              "      <th></th>\n",
              "      <th>id</th>\n",
              "      <th>gender</th>\n",
              "      <th>age</th>\n",
              "      <th>hypertension</th>\n",
              "      <th>heart_disease</th>\n",
              "      <th>ever_married</th>\n",
              "      <th>work_type</th>\n",
              "      <th>Residence_type</th>\n",
              "      <th>avg_glucose_level</th>\n",
              "      <th>bmi</th>\n",
              "      <th>smoking_status</th>\n",
              "      <th>blood</th>\n",
              "      <th>height</th>\n",
              "      <th>stroke</th>\n",
              "    </tr>\n",
              "  </thead>\n",
              "  <tbody>\n",
              "    <tr>\n",
              "      <th>0</th>\n",
              "      <td>77</td>\n",
              "      <td>Female</td>\n",
              "      <td>NaN</td>\n",
              "      <td>0.0</td>\n",
              "      <td>0.0</td>\n",
              "      <td>No</td>\n",
              "      <td>children</td>\n",
              "      <td>Unknown</td>\n",
              "      <td>85.81</td>\n",
              "      <td>18.6</td>\n",
              "      <td>Unknown</td>\n",
              "      <td>O</td>\n",
              "      <td>NaN</td>\n",
              "      <td>0</td>\n",
              "    </tr>\n",
              "    <tr>\n",
              "      <th>1</th>\n",
              "      <td>84</td>\n",
              "      <td>Male</td>\n",
              "      <td>55.0</td>\n",
              "      <td>0.0</td>\n",
              "      <td>0.0</td>\n",
              "      <td>Yes</td>\n",
              "      <td>Private</td>\n",
              "      <td>Urban</td>\n",
              "      <td>89.17</td>\n",
              "      <td>NaN</td>\n",
              "      <td>never smoked</td>\n",
              "      <td>B</td>\n",
              "      <td>1.59</td>\n",
              "      <td>0</td>\n",
              "    </tr>\n",
              "    <tr>\n",
              "      <th>2</th>\n",
              "      <td>91</td>\n",
              "      <td>Female</td>\n",
              "      <td>42.0</td>\n",
              "      <td>0.0</td>\n",
              "      <td>0.0</td>\n",
              "      <td>No</td>\n",
              "      <td>Private</td>\n",
              "      <td>Unknown</td>\n",
              "      <td>98.53</td>\n",
              "      <td>18.5</td>\n",
              "      <td>never smoked</td>\n",
              "      <td>B</td>\n",
              "      <td>NaN</td>\n",
              "      <td>0</td>\n",
              "    </tr>\n",
              "    <tr>\n",
              "      <th>3</th>\n",
              "      <td>99</td>\n",
              "      <td>Female</td>\n",
              "      <td>31.0</td>\n",
              "      <td>0.0</td>\n",
              "      <td>0.0</td>\n",
              "      <td>No</td>\n",
              "      <td>Private</td>\n",
              "      <td>Urban</td>\n",
              "      <td>108.89</td>\n",
              "      <td>52.3</td>\n",
              "      <td>Unknown</td>\n",
              "      <td>O</td>\n",
              "      <td>1.24</td>\n",
              "      <td>0</td>\n",
              "    </tr>\n",
              "    <tr>\n",
              "      <th>4</th>\n",
              "      <td>121</td>\n",
              "      <td>Female</td>\n",
              "      <td>38.0</td>\n",
              "      <td>0.0</td>\n",
              "      <td>0.0</td>\n",
              "      <td>Yes</td>\n",
              "      <td>Private</td>\n",
              "      <td>Unknown</td>\n",
              "      <td>91.44</td>\n",
              "      <td>NaN</td>\n",
              "      <td>Unknown</td>\n",
              "      <td>O</td>\n",
              "      <td>NaN</td>\n",
              "      <td>0</td>\n",
              "    </tr>\n",
              "  </tbody>\n",
              "</table>\n",
              "</div>"
            ],
            "text/plain": [
              "    id  gender   age  hypertension  ...  smoking_status blood height stroke\n",
              "0   77  Female   NaN           0.0  ...         Unknown     O    NaN      0\n",
              "1   84    Male  55.0           0.0  ...    never smoked     B   1.59      0\n",
              "2   91  Female  42.0           0.0  ...    never smoked     B    NaN      0\n",
              "3   99  Female  31.0           0.0  ...         Unknown     O   1.24      0\n",
              "4  121  Female  38.0           0.0  ...         Unknown     O    NaN      0\n",
              "\n",
              "[5 rows x 14 columns]"
            ]
          },
          "metadata": {
            "tags": []
          },
          "execution_count": 2
        }
      ]
    },
    {
      "cell_type": "code",
      "metadata": {
        "colab": {
          "base_uri": "https://localhost:8080/"
        },
        "id": "WTwL3SsR_hLu",
        "outputId": "b496cb4b-e60a-4677-c625-498db14cecf7"
      },
      "source": [
        "# Xem kích thước\n",
        "print('Kích thước:' ,train.shape)\n",
        "print('Thông tin:' ,train.info())"
      ],
      "execution_count": null,
      "outputs": [
        {
          "output_type": "stream",
          "text": [
            "Kích thước: (4000, 14)\n",
            "<class 'pandas.core.frame.DataFrame'>\n",
            "RangeIndex: 4000 entries, 0 to 3999\n",
            "Data columns (total 14 columns):\n",
            " #   Column             Non-Null Count  Dtype  \n",
            "---  ------             --------------  -----  \n",
            " 0   id                 4000 non-null   int64  \n",
            " 1   gender             4000 non-null   object \n",
            " 2   age                3893 non-null   float64\n",
            " 3   hypertension       3770 non-null   float64\n",
            " 4   heart_disease      3910 non-null   float64\n",
            " 5   ever_married       4000 non-null   object \n",
            " 6   work_type          4000 non-null   object \n",
            " 7   Residence_type     4000 non-null   object \n",
            " 8   avg_glucose_level  3829 non-null   float64\n",
            " 9   bmi                2884 non-null   float64\n",
            " 10  smoking_status     4000 non-null   object \n",
            " 11  blood              3990 non-null   object \n",
            " 12  height             2928 non-null   float64\n",
            " 13  stroke             4000 non-null   int64  \n",
            "dtypes: float64(6), int64(2), object(6)\n",
            "memory usage: 437.6+ KB\n",
            "Thông tin: None\n"
          ],
          "name": "stdout"
        }
      ]
    },
    {
      "cell_type": "markdown",
      "metadata": {
        "id": "Z2QxbbPtABN1"
      },
      "source": [
        "Nhận xét:\n",
        "\n",
        "\n",
        "*   Có 4000 điểm dữ liệu với cột cuối cùng là labels\n",
        "*   Có các kiểu dữ liệu như float, int64, object\n",
        "*   Một số cột có giá trị Null, một số thì 'Unknown'\n"
      ]
    },
    {
      "cell_type": "code",
      "metadata": {
        "id": "iu9NgHadCuBE",
        "colab": {
          "base_uri": "https://localhost:8080/",
          "height": 297
        },
        "outputId": "fb9f9a99-3f56-4b69-9ccd-59c6c2b0eb45"
      },
      "source": [
        "# Xem tương quan dữ liệu\n",
        "\n",
        "sns.countplot(x = 'stroke', data = train)"
      ],
      "execution_count": null,
      "outputs": [
        {
          "output_type": "execute_result",
          "data": {
            "text/plain": [
              "<matplotlib.axes._subplots.AxesSubplot at 0x7f36391a1790>"
            ]
          },
          "metadata": {
            "tags": []
          },
          "execution_count": 4
        },
        {
          "output_type": "display_data",
          "data": {
            "image/png": "[encoded data removed]",
            "text/plain": [
              "<Figure size 432x288 with 1 Axes>"
            ]
          },
          "metadata": {
            "tags": [],
            "needs_background": "light"
          }
        }
      ]
    },
    {
      "cell_type": "code",
      "metadata": {
        "colab": {
          "base_uri": "https://localhost:8080/",
          "height": 296
        },
        "id": "MAhnlJVi06eQ",
        "outputId": "a66e6d5d-a16c-453b-f92e-7aa7e6d42dca"
      },
      "source": [
        "sns.countplot(x = 'height', data = train)"
      ],
      "execution_count": null,
      "outputs": [
        {
          "output_type": "execute_result",
          "data": {
            "text/plain": [
              "<matplotlib.axes._subplots.AxesSubplot at 0x7f3622f616d0>"
            ]
          },
          "metadata": {
            "tags": []
          },
          "execution_count": 5
        },
        {
          "output_type": "display_data",
          "data": {
            "image/png": "[encoded data removed]",
            "text/plain": [
              "<Figure size 432x288 with 1 Axes>"
            ]
          },
          "metadata": {
            "tags": [],
            "needs_background": "light"
          }
        }
      ]
    },
    {
      "cell_type": "code",
      "metadata": {
        "colab": {
          "base_uri": "https://localhost:8080/",
          "height": 296
        },
        "id": "9WGmXPE51alB",
        "outputId": "db70cf44-dfa5-42ff-95ea-bfe98766d232"
      },
      "source": [
        "sns.countplot(x = 'bmi', data = train)"
      ],
      "execution_count": null,
      "outputs": [
        {
          "output_type": "execute_result",
          "data": {
            "text/plain": [
              "<matplotlib.axes._subplots.AxesSubplot at 0x7f3622c52cd0>"
            ]
          },
          "metadata": {
            "tags": []
          },
          "execution_count": 6
        },
        {
          "output_type": "display_data",
          "data": {
            "image/png": "[encoded data removed]",
            "text/plain": [
              "<Figure size 432x288 with 1 Axes>"
            ]
          },
          "metadata": {
            "tags": [],
            "needs_background": "light"
          }
        }
      ]
    },
    {
      "cell_type": "markdown",
      "metadata": {
        "id": "CwYW2W00C2Xt"
      },
      "source": [
        "Nhận xét: Dữ liệu bị mất cân bằng, phần lớn thuộc về các điểm thuộc class 0"
      ]
    },
    {
      "cell_type": "markdown",
      "metadata": {
        "id": "KofUHPJHDGH4"
      },
      "source": [
        "## Xem thông tin tập test"
      ]
    },
    {
      "cell_type": "code",
      "metadata": {
        "id": "NiybJBr3_osT",
        "colab": {
          "base_uri": "https://localhost:8080/"
        },
        "outputId": "f291c6d0-b427-43ff-c87f-763ee3c9d7ff"
      },
      "source": [
        "test.info()"
      ],
      "execution_count": null,
      "outputs": [
        {
          "output_type": "stream",
          "text": [
            "<class 'pandas.core.frame.DataFrame'>\n",
            "RangeIndex: 500 entries, 0 to 499\n",
            "Data columns (total 13 columns):\n",
            " #   Column             Non-Null Count  Dtype  \n",
            "---  ------             --------------  -----  \n",
            " 0   id                 500 non-null    int64  \n",
            " 1   gender             500 non-null    object \n",
            " 2   age                489 non-null    float64\n",
            " 3   hypertension       455 non-null    float64\n",
            " 4   heart_disease      366 non-null    float64\n",
            " 5   ever_married       500 non-null    object \n",
            " 6   work_type          500 non-null    object \n",
            " 7   Residence_type     500 non-null    object \n",
            " 8   avg_glucose_level  494 non-null    float64\n",
            " 9   bmi                457 non-null    float64\n",
            " 10  smoking_status     500 non-null    object \n",
            " 11  blood              500 non-null    object \n",
            " 12  height             376 non-null    float64\n",
            "dtypes: float64(6), int64(1), object(6)\n",
            "memory usage: 50.9+ KB\n"
          ],
          "name": "stdout"
        }
      ]
    },
    {
      "cell_type": "markdown",
      "metadata": {
        "id": "l119e-8sDQ_b"
      },
      "source": [
        "Nhận xét: Tập test có 500 điểm dữ liệu. Phân bố tương đồng với tập train"
      ]
    },
    {
      "cell_type": "markdown",
      "metadata": {
        "id": "3ZtOYsgLDv4G"
      },
      "source": [
        "# Training"
      ]
    },
    {
      "cell_type": "markdown",
      "metadata": {
        "id": "EcbRiT8OEPM3"
      },
      "source": [
        "### Xử lý tập train"
      ]
    },
    {
      "cell_type": "code",
      "metadata": {
        "id": "D7s_fJozSXvu"
      },
      "source": [
        "# Vì nhận thấy id sẽ không ảnh hưởng đến kết quả\n",
        "train = train.drop(['id'],axis = 1)\n",
        "train = train.drop(['height'], axis = 1)\n",
        "\n",
        "object_columns = [i for i in train.keys() if train[i].dtypes == object]\n",
        "train = train.drop(object_columns, axis=1)"
      ],
      "execution_count": null,
      "outputs": []
    },
    {
      "cell_type": "code",
      "metadata": {
        "colab": {
          "base_uri": "https://localhost:8080/"
        },
        "id": "0ZK2KdDUKLkM",
        "outputId": "bbc4ed46-648d-4d26-ea0e-59750810bfc7"
      },
      "source": [
        "train.info()"
      ],
      "execution_count": null,
      "outputs": [
        {
          "output_type": "stream",
          "text": [
            "<class 'pandas.core.frame.DataFrame'>\n",
            "RangeIndex: 4000 entries, 0 to 3999\n",
            "Data columns (total 6 columns):\n",
            " #   Column             Non-Null Count  Dtype  \n",
            "---  ------             --------------  -----  \n",
            " 0   age                3893 non-null   float64\n",
            " 1   hypertension       3770 non-null   float64\n",
            " 2   heart_disease      3910 non-null   float64\n",
            " 3   avg_glucose_level  3829 non-null   float64\n",
            " 4   bmi                2884 non-null   float64\n",
            " 5   stroke             4000 non-null   int64  \n",
            "dtypes: float64(5), int64(1)\n",
            "memory usage: 187.6 KB\n"
          ],
          "name": "stdout"
        }
      ]
    },
    {
      "cell_type": "code",
      "metadata": {
        "colab": {
          "base_uri": "https://localhost:8080/"
        },
        "id": "EbfjDaYLEx8N",
        "outputId": "ae98a4d5-a8db-4585-ae18-c9586f61cd24"
      },
      "source": [
        "train['age'].fillna(value=train['age'].mean(), inplace=True)\n",
        "train['hypertension'].fillna(value=train['hypertension'].mean(), inplace=True)\n",
        "train['heart_disease'].fillna(value=train['heart_disease'].mean(), inplace=True)\n",
        "train['avg_glucose_level'].fillna(value=train['avg_glucose_level'].mean(), inplace=True)\n",
        "train['bmi'].fillna(value=train['bmi'].mean(), inplace=True)\n",
        "#train['height'].fillna(value=train['height'].mean(), inplace=True)\n",
        "train.info()"
      ],
      "execution_count": null,
      "outputs": [
        {
          "output_type": "stream",
          "text": [
            "<class 'pandas.core.frame.DataFrame'>\n",
            "RangeIndex: 4000 entries, 0 to 3999\n",
            "Data columns (total 6 columns):\n",
            " #   Column             Non-Null Count  Dtype  \n",
            "---  ------             --------------  -----  \n",
            " 0   age                4000 non-null   float64\n",
            " 1   hypertension       4000 non-null   float64\n",
            " 2   heart_disease      4000 non-null   float64\n",
            " 3   avg_glucose_level  4000 non-null   float64\n",
            " 4   bmi                4000 non-null   float64\n",
            " 5   stroke             4000 non-null   int64  \n",
            "dtypes: float64(5), int64(1)\n",
            "memory usage: 187.6 KB\n"
          ],
          "name": "stdout"
        }
      ]
    },
    {
      "cell_type": "code",
      "metadata": {
        "colab": {
          "base_uri": "https://localhost:8080/"
        },
        "id": "DrH09iMNT0xP",
        "outputId": "69df784e-8c77-48bb-adc5-78a237620c91"
      },
      "source": [
        "train = train.dropna(axis=0)\n",
        "train.info()"
      ],
      "execution_count": null,
      "outputs": [
        {
          "output_type": "stream",
          "text": [
            "<class 'pandas.core.frame.DataFrame'>\n",
            "Int64Index: 4000 entries, 0 to 3999\n",
            "Data columns (total 6 columns):\n",
            " #   Column             Non-Null Count  Dtype  \n",
            "---  ------             --------------  -----  \n",
            " 0   age                4000 non-null   float64\n",
            " 1   hypertension       4000 non-null   float64\n",
            " 2   heart_disease      4000 non-null   float64\n",
            " 3   avg_glucose_level  4000 non-null   float64\n",
            " 4   bmi                4000 non-null   float64\n",
            " 5   stroke             4000 non-null   int64  \n",
            "dtypes: float64(5), int64(1)\n",
            "memory usage: 218.8 KB\n"
          ],
          "name": "stdout"
        }
      ]
    },
    {
      "cell_type": "markdown",
      "metadata": {
        "id": "ioaooZ9PFvub"
      },
      "source": [
        "### Xử lý tập test"
      ]
    },
    {
      "cell_type": "code",
      "metadata": {
        "id": "ocqbolItGBW1"
      },
      "source": [
        "#Lấy id ra\n",
        "res_id = np.array(test.id)\n",
        "\n",
        "# Xoá id\n",
        "test = test.drop(['id'],axis=1)\n",
        "test = test.drop(['height'], axis = 1)\n",
        "\n",
        "test = test.drop(object_columns, axis=1)"
      ],
      "execution_count": null,
      "outputs": []
    },
    {
      "cell_type": "code",
      "metadata": {
        "colab": {
          "base_uri": "https://localhost:8080/"
        },
        "id": "3FXY4BNCNl89",
        "outputId": "a2504162-b7f3-43aa-afe8-fc730a9f17aa"
      },
      "source": [
        "test.info()"
      ],
      "execution_count": null,
      "outputs": [
        {
          "output_type": "stream",
          "text": [
            "<class 'pandas.core.frame.DataFrame'>\n",
            "RangeIndex: 500 entries, 0 to 499\n",
            "Data columns (total 5 columns):\n",
            " #   Column             Non-Null Count  Dtype  \n",
            "---  ------             --------------  -----  \n",
            " 0   age                489 non-null    float64\n",
            " 1   hypertension       455 non-null    float64\n",
            " 2   heart_disease      366 non-null    float64\n",
            " 3   avg_glucose_level  494 non-null    float64\n",
            " 4   bmi                457 non-null    float64\n",
            "dtypes: float64(5)\n",
            "memory usage: 19.7 KB\n"
          ],
          "name": "stdout"
        }
      ]
    },
    {
      "cell_type": "code",
      "metadata": {
        "id": "URgZmG9hGqNE",
        "colab": {
          "base_uri": "https://localhost:8080/"
        },
        "outputId": "bd5f97b3-a672-4a71-8237-d4fba2ada32b"
      },
      "source": [
        "test['age'].fillna(value=test['age'].mean(), inplace=True)\n",
        "test['hypertension'].fillna(value=test['hypertension'].mean(), inplace=True)\n",
        "test['heart_disease'].fillna(value=test['heart_disease'].mean(), inplace=True)\n",
        "test['avg_glucose_level'].fillna(value=test['avg_glucose_level'].mean(), inplace=True)\n",
        "test['bmi'].fillna(value=test['bmi'].mean(), inplace=True)\n",
        "#test['height'].fillna(value=test['height'].mean(), inplace=True)\n",
        "test.info()"
      ],
      "execution_count": null,
      "outputs": [
        {
          "output_type": "stream",
          "text": [
            "<class 'pandas.core.frame.DataFrame'>\n",
            "RangeIndex: 500 entries, 0 to 499\n",
            "Data columns (total 5 columns):\n",
            " #   Column             Non-Null Count  Dtype  \n",
            "---  ------             --------------  -----  \n",
            " 0   age                500 non-null    float64\n",
            " 1   hypertension       500 non-null    float64\n",
            " 2   heart_disease      500 non-null    float64\n",
            " 3   avg_glucose_level  500 non-null    float64\n",
            " 4   bmi                500 non-null    float64\n",
            "dtypes: float64(5)\n",
            "memory usage: 19.7 KB\n"
          ],
          "name": "stdout"
        }
      ]
    },
    {
      "cell_type": "markdown",
      "metadata": {
        "id": "up3_r-XiHPKz"
      },
      "source": [
        "Nhận xét: Tệp test còn đủ 500 điểm dữ liệu và có 6 đặc trưng như tệp train."
      ]
    },
    {
      "cell_type": "markdown",
      "metadata": {
        "id": "4CoGcNPqQzUh"
      },
      "source": [
        "##Random + LR"
      ]
    },
    {
      "cell_type": "markdown",
      "metadata": {
        "id": "ecMNVQbIQ6gm"
      },
      "source": [
        "###Xử lý mất cân bằng"
      ]
    },
    {
      "cell_type": "code",
      "metadata": {
        "colab": {
          "base_uri": "https://localhost:8080/"
        },
        "id": "AUb2jwuQQ9YR",
        "outputId": "801dc3c2-247a-4488-d6fb-07ba89eae634"
      },
      "source": [
        "# Chọn những cột đặc trưng\n",
        "features_columns = train.keys()\n",
        "features_columns = features_columns.drop('stroke')\n",
        "print(features_columns)\n",
        "\n",
        "# Tạo dữ liệu cho máy học\n",
        "\n",
        "X_train = train[features_columns]\n",
        "y_train = train.stroke\n",
        "\n",
        "X_test = test\n",
        "\n",
        "ud = RandomUnderSampler(sampling_strategy=0.25)\n",
        "#Fit lại dữ liệu\n",
        "X_train, y_train= ud.fit_sample(X_train, y_train)\n",
        "#In số lương các labels\n",
        "print(\"after OverSampling, counts of label '1': {}\".format(sum(y_train==1)))\n",
        "print(\"after OverSampling, counts of label '0': {} \\n\".format(sum(y_train==0)))"
      ],
      "execution_count": null,
      "outputs": [
        {
          "output_type": "stream",
          "text": [
            "Index(['age', 'hypertension', 'heart_disease', 'avg_glucose_level', 'bmi'], dtype='object')\n",
            "after OverSampling, counts of label '1': 130\n",
            "after OverSampling, counts of label '0': 520 \n",
            "\n"
          ],
          "name": "stdout"
        },
        {
          "output_type": "stream",
          "text": [
            "/usr/local/lib/python3.7/dist-packages/sklearn/utils/deprecation.py:87: FutureWarning:\n",
            "\n",
            "Function safe_indexing is deprecated; safe_indexing is deprecated in version 0.22 and will be removed in version 0.24.\n",
            "\n"
          ],
          "name": "stderr"
        }
      ]
    },
    {
      "cell_type": "markdown",
      "metadata": {
        "id": "HvLcgWdFRLSH"
      },
      "source": [
        "###Train"
      ]
    },
    {
      "cell_type": "code",
      "metadata": {
        "id": "TzDq4TTBRNof"
      },
      "source": [
        "# Cho máy học với 2 dòng code nào\n",
        "model_logistic = LogisticRegression(max_iter = 2000)\n",
        "model_logistic.fit(X_train,y_train)\n",
        "# Kết quả chạy trên tập test\n",
        "y_pred = model_logistic.predict(X_test)"
      ],
      "execution_count": null,
      "outputs": []
    },
    {
      "cell_type": "code",
      "metadata": {
        "id": "3cjpZXykRTdq",
        "colab": {
          "base_uri": "https://localhost:8080/"
        },
        "outputId": "3c88d684-ed62-4628-c164-1a1bdeba3aa4"
      },
      "source": [
        "# Hiển thị kết quả ra xem\n",
        "y_pred"
      ],
      "execution_count": null,
      "outputs": [
        {
          "output_type": "execute_result",
          "data": {
            "text/plain": [
              "array([0, 1, 0, 1, 0, 0, 0, 0, 0, 0, 0, 0, 0, 0, 0, 0, 0, 0, 0, 1, 1, 0,\n",
              "       0, 0, 0, 0, 0, 0, 0, 0, 0, 0, 0, 0, 0, 0, 0, 0, 0, 0, 0, 0, 0, 0,\n",
              "       0, 0, 0, 0, 0, 0, 0, 0, 0, 0, 0, 0, 0, 0, 0, 0, 0, 0, 0, 0, 0, 0,\n",
              "       0, 1, 0, 0, 0, 1, 0, 0, 0, 0, 1, 0, 0, 0, 0, 0, 0, 0, 0, 0, 0, 0,\n",
              "       0, 0, 0, 0, 0, 0, 0, 0, 0, 0, 0, 0, 0, 0, 0, 0, 1, 0, 0, 0, 0, 0,\n",
              "       0, 0, 0, 0, 0, 1, 0, 0, 0, 1, 0, 0, 0, 0, 0, 0, 0, 1, 0, 0, 0, 0,\n",
              "       0, 1, 0, 1, 0, 0, 0, 0, 0, 0, 0, 1, 0, 0, 0, 0, 0, 0, 0, 0, 0, 0,\n",
              "       0, 0, 0, 0, 0, 0, 0, 0, 0, 0, 1, 0, 0, 0, 0, 0, 0, 0, 0, 0, 0, 0,\n",
              "       0, 0, 0, 0, 0, 0, 0, 0, 0, 1, 0, 0, 0, 0, 0, 0, 0, 0, 0, 1, 0, 0,\n",
              "       0, 1, 0, 0, 0, 0, 1, 0, 0, 0, 0, 0, 0, 0, 0, 0, 0, 0, 0, 1, 0, 0,\n",
              "       0, 0, 1, 0, 0, 0, 0, 0, 0, 0, 0, 0, 0, 1, 0, 0, 0, 0, 0, 0, 0, 0,\n",
              "       0, 0, 0, 0, 0, 0, 0, 0, 0, 0, 1, 0, 1, 0, 0, 0, 0, 0, 0, 0, 0, 0,\n",
              "       1, 0, 0, 0, 0, 0, 0, 0, 0, 0, 1, 0, 0, 0, 0, 0, 0, 0, 0, 1, 0, 0,\n",
              "       0, 0, 0, 0, 0, 0, 0, 1, 0, 0, 0, 0, 0, 0, 0, 0, 0, 0, 0, 0, 0, 0,\n",
              "       1, 0, 0, 0, 0, 0, 0, 0, 0, 0, 0, 0, 0, 0, 0, 0, 0, 0, 0, 0, 0, 0,\n",
              "       0, 0, 0, 1, 0, 1, 0, 0, 0, 0, 0, 0, 0, 0, 0, 0, 0, 0, 0, 0, 0, 0,\n",
              "       0, 0, 0, 0, 0, 0, 0, 0, 0, 0, 1, 0, 1, 0, 0, 0, 0, 0, 0, 0, 0, 0,\n",
              "       0, 0, 0, 0, 0, 0, 0, 0, 0, 0, 0, 0, 0, 0, 0, 0, 0, 0, 0, 0, 1, 0,\n",
              "       0, 0, 0, 0, 0, 1, 0, 0, 0, 0, 0, 0, 1, 0, 0, 0, 0, 0, 0, 0, 0, 0,\n",
              "       0, 1, 0, 0, 0, 0, 0, 0, 0, 0, 0, 1, 0, 1, 0, 0, 0, 0, 0, 0, 0, 0,\n",
              "       0, 0, 0, 0, 0, 0, 0, 0, 0, 0, 0, 0, 0, 0, 0, 0, 0, 0, 0, 0, 0, 0,\n",
              "       0, 0, 0, 0, 0, 0, 0, 0, 0, 0, 0, 0, 1, 0, 0, 0, 0, 0, 0, 0, 0, 0,\n",
              "       0, 1, 0, 0, 0, 1, 0, 0, 0, 0, 0, 0, 0, 0, 0, 0])"
            ]
          },
          "metadata": {
            "tags": []
          },
          "execution_count": 17
        }
      ]
    },
    {
      "cell_type": "markdown",
      "metadata": {
        "id": "eC6AkPys-Znk"
      },
      "source": [
        "# Submition"
      ]
    },
    {
      "cell_type": "code",
      "metadata": {
        "id": "HGrS28Gc-ReM"
      },
      "source": [
        "#Tạo đataframe tên submission để lưu kết quả\n",
        "submission = pd.DataFrame(zip(res_id,y_pred), columns = ['id','stroke'])\n",
        "submission.head()\n",
        "# Lưu file về\n",
        "submission.to_csv('submission.csv', index=False)"
      ],
      "execution_count": null,
      "outputs": []
    }
  ]
}